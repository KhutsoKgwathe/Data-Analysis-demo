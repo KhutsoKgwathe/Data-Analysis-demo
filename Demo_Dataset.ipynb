{
  "nbformat": 4,
  "nbformat_minor": 0,
  "metadata": {
    "colab": {
      "provenance": [],
      "authorship_tag": "ABX9TyM44iPJn/3QKgyv7f7a0O1w",
      "include_colab_link": true
    },
    "kernelspec": {
      "name": "python3",
      "display_name": "Python 3"
    },
    "language_info": {
      "name": "python"
    }
  },
  "cells": [
    {
      "cell_type": "markdown",
      "metadata": {
        "id": "view-in-github",
        "colab_type": "text"
      },
      "source": [
        "<a href=\"https://colab.research.google.com/github/KhutsoKgwathe/Data-Analysis-demo/blob/main/Demo_Dataset.ipynb\" target=\"_parent\"><img src=\"https://colab.research.google.com/assets/colab-badge.svg\" alt=\"Open In Colab\"/></a>"
      ]
    },
    {
      "cell_type": "code",
      "execution_count": null,
      "metadata": {
        "id": "JYaU-9Ut_zw2"
      },
      "outputs": [],
      "source": [
        "import pandas as pd\n",
        "import matplotlib\n",
        "\n",
        "\n",
        "dataframe = pd.read_csv('employees.csv')\n",
        "\n",
        "print(dataframe)\n"
      ]
    },
    {
      "cell_type": "code",
      "source": [
        "dataframe.drop_duplicates()\n",
        "print(dataframe)"
      ],
      "metadata": {
        "id": "x1YfjVZtJpON"
      },
      "execution_count": null,
      "outputs": []
    },
    {
      "cell_type": "code",
      "source": [
        "new_df = dataframe.dropna(axis=0)\n",
        "print(new_df.head(20))\n"
      ],
      "metadata": {
        "id": "1gljwIJRCNoi"
      },
      "execution_count": null,
      "outputs": []
    },
    {
      "cell_type": "code",
      "source": [
        "mean_salary = new_df['Salary'].mean()\n",
        "print('\\nAVERAGE SALARY IS: R{: .2f}'.format(mean_salary))\n",
        "\n",
        "new_df[new_df.Salary > 4500]"
      ],
      "metadata": {
        "id": "ZP_FtxpfEyuK"
      },
      "execution_count": null,
      "outputs": []
    },
    {
      "cell_type": "code",
      "source": [
        "import pandas as pd # import pandas library and assign it to the alias 'pd'\n",
        "\n",
        "high_earner = dataframe.Salary >= 100000\n",
        "new_df = pd.concat([dataframe, high_earner.rename('High Earner')], axis=1)\n",
        "new_df.rename(columns={0: 'High Earner'}, inplace=True)\n",
        "\n",
        "print(new_df)"
      ],
      "metadata": {
        "id": "9hw1LkubWch7"
      },
      "execution_count": null,
      "outputs": []
    },
    {
      "cell_type": "code",
      "source": [
        "new_df.groupby(new_df['High Earner']).Salary.count()"
      ],
      "metadata": {
        "colab": {
          "base_uri": "https://localhost:8080/",
          "height": 178
        },
        "id": "tq2ipKGHcpEq",
        "outputId": "71c7343b-6f56-4fa2-f034-65bb2b9414a3"
      },
      "execution_count": 56,
      "outputs": [
        {
          "output_type": "execute_result",
          "data": {
            "text/plain": [
              "High Earner\n",
              "False    591\n",
              "True     409\n",
              "Name: Salary, dtype: int64"
            ],
            "text/html": [
              "<div>\n",
              "<style scoped>\n",
              "    .dataframe tbody tr th:only-of-type {\n",
              "        vertical-align: middle;\n",
              "    }\n",
              "\n",
              "    .dataframe tbody tr th {\n",
              "        vertical-align: top;\n",
              "    }\n",
              "\n",
              "    .dataframe thead th {\n",
              "        text-align: right;\n",
              "    }\n",
              "</style>\n",
              "<table border=\"1\" class=\"dataframe\">\n",
              "  <thead>\n",
              "    <tr style=\"text-align: right;\">\n",
              "      <th></th>\n",
              "      <th>Salary</th>\n",
              "    </tr>\n",
              "    <tr>\n",
              "      <th>High Earner</th>\n",
              "      <th></th>\n",
              "    </tr>\n",
              "  </thead>\n",
              "  <tbody>\n",
              "    <tr>\n",
              "      <th>False</th>\n",
              "      <td>591</td>\n",
              "    </tr>\n",
              "    <tr>\n",
              "      <th>True</th>\n",
              "      <td>409</td>\n",
              "    </tr>\n",
              "  </tbody>\n",
              "</table>\n",
              "</div><br><label><b>dtype:</b> int64</label>"
            ]
          },
          "metadata": {},
          "execution_count": 56
        }
      ]
    },
    {
      "cell_type": "code",
      "source": [
        "new_df2 = new_df.sort_values(by='Salary', ascending=False)\n",
        "print(new_df.head(20))\n",
        "print(\"\\n----------------------------------------------------------------------\\n\")\n",
        "print(new_df.tail(20))"
      ],
      "metadata": {
        "id": "3Vxd50s-e8VT"
      },
      "execution_count": null,
      "outputs": []
    },
    {
      "cell_type": "code",
      "source": [
        "import matplotlib.pyplot as plt\n",
        "\n",
        "top20_df = new_df.head(10)\n",
        "\n",
        "plt.figure(figsize=(8, 4))\n",
        "plt.bar(x=top20_df['First Name'].astype(str), height=top20_df['Salary'])\n",
        "\n",
        "plt.xlabel('Employee Name')\n",
        "plt.ylabel('Salary')\n",
        "plt.title('Employee Salaries')\n",
        "plt.xticks(rotation=90)\n",
        "plt.grid(True)\n",
        "plt.tight_layout()\n",
        "plt.show()"
      ],
      "metadata": {
        "colab": {
          "base_uri": "https://localhost:8080/",
          "height": 407
        },
        "id": "nuf3zp0UfrPc",
        "outputId": "55517c21-8e69-4eb5-ebf4-2d1eef67b3e8"
      },
      "execution_count": 102,
      "outputs": [
        {
          "output_type": "display_data",
          "data": {
            "text/plain": [
              "<Figure size 800x400 with 1 Axes>"
            ],
            "image/png": "[encoded data removed]"
          },
          "metadata": {}
        }
      ]
    },
    {
      "cell_type": "code",
      "source": [
        "# Distribution of the data across the dataset\n",
        "\n",
        "salary = new_df['Salary']\n",
        "\n",
        "fig = plt.figure(figsize=(10, 4))\n",
        "plt.hist(salary)\n",
        "\n",
        "fig.show"
      ],
      "metadata": {
        "colab": {
          "base_uri": "https://localhost:8080/",
          "height": 542
        },
        "id": "epL66DWSh_kf",
        "outputId": "3be20d34-fc5d-426c-aca4-bf08f61e7e28"
      },
      "execution_count": 114,
      "outputs": [
        {
          "output_type": "execute_result",
          "data": {
            "text/plain": [
              "<bound method Figure.show of <Figure size 1000x400 with 1 Axes>>"
            ],
            "text/html": [
              "<div style=\"max-width:800px; border: 1px solid var(--colab-border-color);\"><style>\n",
              "      pre.function-repr-contents {\n",
              "        overflow-x: auto;\n",
              "        padding: 8px 12px;\n",
              "        max-height: 500px;\n",
              "      }\n",
              "\n",
              "      pre.function-repr-contents.function-repr-contents-collapsed {\n",
              "        cursor: pointer;\n",
              "        max-height: 100px;\n",
              "      }\n",
              "    </style>\n",
              "    <pre style=\"white-space: initial; background:\n",
              "         var(--colab-secondary-surface-color); padding: 8px 12px;\n",
              "         border-bottom: 1px solid var(--colab-border-color);\"><b>matplotlib.figure.Figure.show</b><br/>def show(warn=True)</pre><pre class=\"function-repr-contents function-repr-contents-collapsed\" style=\"\"><a class=\"filepath\" style=\"display:none\" href=\"#\">/usr/local/lib/python3.11/dist-packages/matplotlib/figure.py</a>If using a GUI backend with pyplot, display the figure window.\n",
              "\n",
              "If the figure was not created using `~.pyplot.figure`, it will lack\n",
              "a `~.backend_bases.FigureManagerBase`, and this method will raise an\n",
              "AttributeError.\n",
              "\n",
              ".. warning::\n",
              "\n",
              "    This does not manage an GUI event loop. Consequently, the figure\n",
              "    may only be shown briefly or not shown at all if you or your\n",
              "    environment are not managing an event loop.\n",
              "\n",
              "    Use cases for `.Figure.show` include running this from a GUI\n",
              "    application (where there is persistently an event loop running) or\n",
              "    from a shell, like IPython, that install an input hook to allow the\n",
              "    interactive shell to accept input while the figure is also being\n",
              "    shown and interactive.  Some, but not all, GUI toolkits will\n",
              "    register an input hook on import.  See :ref:`cp_integration` for\n",
              "    more details.\n",
              "\n",
              "    If you&#x27;re in a shell without input hook integration or executing a\n",
              "    python script, you should use `matplotlib.pyplot.show` with\n",
              "    ``block=True`` instead, which takes care of starting and running\n",
              "    the event loop for you.\n",
              "\n",
              "Parameters\n",
              "----------\n",
              "warn : bool, default: True\n",
              "    If ``True`` and we are not running headless (i.e. on Linux with an\n",
              "    unset DISPLAY), issue warning when called on a non-GUI backend.</pre>\n",
              "      <script>\n",
              "      if (google.colab.kernel.accessAllowed && google.colab.files && google.colab.files.view) {\n",
              "        for (const element of document.querySelectorAll('.filepath')) {\n",
              "          element.style.display = 'block'\n",
              "          element.onclick = (event) => {\n",
              "            event.preventDefault();\n",
              "            event.stopPropagation();\n",
              "            google.colab.files.view(element.textContent, 2758);\n",
              "          };\n",
              "        }\n",
              "      }\n",
              "      for (const element of document.querySelectorAll('.function-repr-contents')) {\n",
              "        element.onclick = (event) => {\n",
              "          event.preventDefault();\n",
              "          event.stopPropagation();\n",
              "          element.classList.toggle('function-repr-contents-collapsed');\n",
              "        };\n",
              "      }\n",
              "      </script>\n",
              "      </div>"
            ]
          },
          "metadata": {},
          "execution_count": 114
        },
        {
          "output_type": "display_data",
          "data": {
            "text/plain": [
              "<Figure size 1000x400 with 1 Axes>"
            ],
            "image/png": "[encoded data removed]"
          },
          "metadata": {}
        }
      ]
    }
  ]
}